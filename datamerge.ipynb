{
 "cells": [
  {
   "cell_type": "code",
   "execution_count": 5,
   "metadata": {},
   "outputs": [],
   "source": [
    "import os\n",
    "filepath = '/users/fumengjin/Documents/Keras-genomics_2to3/motifdata/'\n",
    "pathdir = os.listdir(filepath)\n",
    "for alldir in pathdir:\n",
    "    child = os.path.join(filepath, alldir)\n",
    "    #print(child)\n",
    "    "
   ]
  },
  {
   "cell_type": "code",
   "execution_count": 12,
   "metadata": {},
   "outputs": [
    {
     "name": "stdout",
     "output_type": "stream",
     "text": [
      "150.0\n"
     ]
    }
   ],
   "source": [
    "num = 0 \n",
    "for i in pathdir:\n",
    "    if 'K562' in i:\n",
    "        num = num +1\n",
    "        #print(i)\n",
    "print(num/2)"
   ]
  },
  {
   "cell_type": "code",
   "execution_count": 20,
   "metadata": {},
   "outputs": [
    {
     "data": {
      "text/plain": [
       "'Fosl1sc183V0416101UniPk/'"
      ]
     },
     "execution_count": 20,
     "metadata": {},
     "output_type": "execute_result"
    }
   ],
   "source": [
    "str1 = 'wgEncodeAwgTfbsHaibK562Fosl1sc183V0416101UniPk/'\n",
    "str2 = 'K562'\n",
    "str1 = str1[str1.find(str2) + len(str2):]\n",
    "str1"
   ]
  },
  {
   "cell_type": "code",
   "execution_count": 27,
   "metadata": {},
   "outputs": [
    {
     "name": "stdout",
     "output_type": "stream",
     "text": [
      "{'Max', 'FOSL2', 'FOXA1', 'JunD', 'Ini1', 'PLU1', 'HMGN3', 'RPC155', 'GATA2', 'SETDB1', 'E2F6', 'IKZF1', 'ETS1', 'JARID1A', 'NFATC1', 'BATF', 'FOSL1', 'NELFe', 'E2F1', 'HNF4G', 'TR4', 'ARID3A', 'USF-1', 'BAF170', 'BCL3', 'USF1', 'KAP1', 'MTA3', 'TEAD4', 'NFKB', 'p300', 'STAT1', 'MEF2C', 'PHF8', 'Pol2(b)', 'MYBL2', 'HDAC1', 'HNF4A', 'PAX5-N19', 'Pol2(phosphoS2)', 'SREBP1', 'GATA-2', 'c-Jun', 'ERRA', 'Sin3Ak-20', 'HA-E2F1', 'SIN3A', 'ZKSCAN1', 'TCF3', 'GATA-1', 'CTCF', 'IRF1', 'BRF1', 'MEF2A', 'ELK1', 'ZEB1', 'c-Fos', 'UBTF', 'RBBP5', 'POU2F2', 'BDP1', 'TAF1', 'ATF1', 'YY1', 'BCLAF1', 'RXRA', 'NF-E2', 'Pol2', 'ZNF217', 'ZBTB33', 'Mxi1', 'EZH2', 'HDAC6', 'PGC1A', 'HDAC2', 'SP2', 'SUZ12', 'NR2F2', 'GABP', 'SPT20', 'STAT5A', 'MafK', 'SIRT6', 'PRDM1', 'CTCFL', 'TFIIIC-110', 'BCL11A', 'TBLR1', 'MAZ', 'eGFP-JunD', 'ATF2', 'STAT2', 'POU5F1', 'CEBPD', 'ZNF274', 'Pol2-4H8', 'SP1', 'TAF7', 'CtBP2', 'NANOG', 'CEBPB', 'ATF3', 'RFX5', 'GRp20', 'Znf143', 'UBF', 'BAF155', 'CHD2', 'eGFP-JunB', 'Nrf1', 'SRF', 'STAT3', 'Pbx3', 'eGFP-GATA2', 'PAX5-C20', 'FOXM1', 'Rad21', 'TBP', 'Egr-1', 'ZNF263', 'FOXA2', 'SP4', 'AP-2gamma', 'ELK4', 'NF-YA', 'ZBTB7A', 'ERalpha', 'TRIM28', 'eGFP-FOS', 'ZZZ3', 'GTF2F1', 'HSF1', 'PML', 'TCF12', 'PU.1', 'IRF4', 'TAL1', 'Pol3', 'Brg1', 'COREST', 'AP-2alpha', 'USF2', 'ELF1', 'GATA3', 'EBF1', 'SMC3', 'NFIC', 'BRCA1', 'RUNX3', 'FOXP2', 'NF-YB', 'CHD1', 'MBD4', 'GR', 'BHLHE40', 'GTF2B', 'eGFP-HDAC8', 'SIX5', 'WHIP', 'E2F4', 'THAP1', 'TCF7L2', 'CBX3', 'SAP30', 'MafF', 'NRSF', 'CREB1', 'Bach1', 'IRF3', 'CCNT2', 'c-Myc', 'BRF2'}\n",
      "172\n"
     ]
    }
   ],
   "source": [
    "tfs = []\n",
    "with open('motifdata/datalist.csv') as f:\n",
    "    for line in f:\n",
    "        tfs.append(line.strip().split(',')[1])\n",
    "    tfs = set(tfs)\n",
    "    print(tfs)\n",
    "    print(len(tfs))\n",
    "    "
   ]
  },
  {
   "cell_type": "code",
   "execution_count": null,
   "metadata": {
    "collapsed": true
   },
   "outputs": [],
   "source": []
  }
 ],
 "metadata": {
  "kernelspec": {
   "display_name": "Python 3",
   "language": "python",
   "name": "python3"
  },
  "language_info": {
   "codemirror_mode": {
    "name": "ipython",
    "version": 3
   },
   "file_extension": ".py",
   "mimetype": "text/x-python",
   "name": "python",
   "nbconvert_exporter": "python",
   "pygments_lexer": "ipython3",
   "version": "3.6.1"
  }
 },
 "nbformat": 4,
 "nbformat_minor": 2
}
